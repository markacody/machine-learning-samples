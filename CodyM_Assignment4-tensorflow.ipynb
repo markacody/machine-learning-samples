{
 "cells": [
  {
   "cell_type": "markdown",
   "metadata": {},
   "source": [
    "##### CIS435: Practical Data Science with Machine Learning\n",
    "##### Assignment 4b: Deep Neural Network (DNN) with Tensorflow\n",
    "## Breast Cancer Prediction of Malignant or Benign\n",
    "Author: Mark Cody\n",
    "Date: March 7, 2021\n",
    "\n",
    "Purpose: Use Breast Cancer Wisconsin (Diagnostic) Data Set and deep learning to predict whether the cancer is benign or malignant. In this notebook."
   ]
  },
  {
   "cell_type": "code",
   "execution_count": 1,
   "metadata": {},
   "outputs": [],
   "source": [
    "import pandas as pd\n",
    "import numpy as np\n",
    "import matplotlib.pyplot as plt\n",
    "%matplotlib inline\n",
    "import seaborn as sns"
   ]
  },
  {
   "cell_type": "markdown",
   "metadata": {},
   "source": [
    "### Data Preparation\n"
   ]
  },
  {
   "cell_type": "code",
   "execution_count": 2,
   "metadata": {},
   "outputs": [],
   "source": [
    "data = pd.read_csv('bdata.csv')"
   ]
  },
  {
   "cell_type": "code",
   "execution_count": 3,
   "metadata": {},
   "outputs": [
    {
     "data": {
      "text/html": [
       "<div>\n",
       "<style scoped>\n",
       "    .dataframe tbody tr th:only-of-type {\n",
       "        vertical-align: middle;\n",
       "    }\n",
       "\n",
       "    .dataframe tbody tr th {\n",
       "        vertical-align: top;\n",
       "    }\n",
       "\n",
       "    .dataframe thead th {\n",
       "        text-align: right;\n",
       "    }\n",
       "</style>\n",
       "<table border=\"1\" class=\"dataframe\">\n",
       "  <thead>\n",
       "    <tr style=\"text-align: right;\">\n",
       "      <th></th>\n",
       "      <th>id</th>\n",
       "      <th>radius_mean</th>\n",
       "      <th>texture_mean</th>\n",
       "      <th>perimeter_mean</th>\n",
       "      <th>area_mean</th>\n",
       "      <th>smoothness_mean</th>\n",
       "      <th>compactness_mean</th>\n",
       "      <th>concavity_mean</th>\n",
       "      <th>concave points_mean</th>\n",
       "      <th>symmetry_mean</th>\n",
       "      <th>...</th>\n",
       "      <th>perimeter_se</th>\n",
       "      <th>area_se</th>\n",
       "      <th>smoothness_se</th>\n",
       "      <th>compactness_se</th>\n",
       "      <th>concavity_se</th>\n",
       "      <th>concave points_se</th>\n",
       "      <th>symmetry_se</th>\n",
       "      <th>fractal_dimension_se</th>\n",
       "      <th>radius_worst</th>\n",
       "      <th>diagnosis</th>\n",
       "    </tr>\n",
       "  </thead>\n",
       "  <tbody>\n",
       "    <tr>\n",
       "      <th>0</th>\n",
       "      <td>842302</td>\n",
       "      <td>17.99</td>\n",
       "      <td>10.38</td>\n",
       "      <td>122.80</td>\n",
       "      <td>1001.0</td>\n",
       "      <td>0.11840</td>\n",
       "      <td>0.27760</td>\n",
       "      <td>0.3001</td>\n",
       "      <td>0.14710</td>\n",
       "      <td>0.2419</td>\n",
       "      <td>...</td>\n",
       "      <td>8.589</td>\n",
       "      <td>153.40</td>\n",
       "      <td>0.006399</td>\n",
       "      <td>0.04904</td>\n",
       "      <td>0.05373</td>\n",
       "      <td>0.01587</td>\n",
       "      <td>0.03003</td>\n",
       "      <td>0.006193</td>\n",
       "      <td>25.38</td>\n",
       "      <td>1</td>\n",
       "    </tr>\n",
       "    <tr>\n",
       "      <th>1</th>\n",
       "      <td>842517</td>\n",
       "      <td>20.57</td>\n",
       "      <td>17.77</td>\n",
       "      <td>132.90</td>\n",
       "      <td>1326.0</td>\n",
       "      <td>0.08474</td>\n",
       "      <td>0.07864</td>\n",
       "      <td>0.0869</td>\n",
       "      <td>0.07017</td>\n",
       "      <td>0.1812</td>\n",
       "      <td>...</td>\n",
       "      <td>3.398</td>\n",
       "      <td>74.08</td>\n",
       "      <td>0.005225</td>\n",
       "      <td>0.01308</td>\n",
       "      <td>0.01860</td>\n",
       "      <td>0.01340</td>\n",
       "      <td>0.01389</td>\n",
       "      <td>0.003532</td>\n",
       "      <td>24.99</td>\n",
       "      <td>1</td>\n",
       "    </tr>\n",
       "    <tr>\n",
       "      <th>2</th>\n",
       "      <td>84300903</td>\n",
       "      <td>19.69</td>\n",
       "      <td>21.25</td>\n",
       "      <td>130.00</td>\n",
       "      <td>1203.0</td>\n",
       "      <td>0.10960</td>\n",
       "      <td>0.15990</td>\n",
       "      <td>0.1974</td>\n",
       "      <td>0.12790</td>\n",
       "      <td>0.2069</td>\n",
       "      <td>...</td>\n",
       "      <td>4.585</td>\n",
       "      <td>94.03</td>\n",
       "      <td>0.006150</td>\n",
       "      <td>0.04006</td>\n",
       "      <td>0.03832</td>\n",
       "      <td>0.02058</td>\n",
       "      <td>0.02250</td>\n",
       "      <td>0.004571</td>\n",
       "      <td>23.57</td>\n",
       "      <td>1</td>\n",
       "    </tr>\n",
       "    <tr>\n",
       "      <th>3</th>\n",
       "      <td>84348301</td>\n",
       "      <td>11.42</td>\n",
       "      <td>20.38</td>\n",
       "      <td>77.58</td>\n",
       "      <td>386.1</td>\n",
       "      <td>0.14250</td>\n",
       "      <td>0.28390</td>\n",
       "      <td>0.2414</td>\n",
       "      <td>0.10520</td>\n",
       "      <td>0.2597</td>\n",
       "      <td>...</td>\n",
       "      <td>3.445</td>\n",
       "      <td>27.23</td>\n",
       "      <td>0.009110</td>\n",
       "      <td>0.07458</td>\n",
       "      <td>0.05661</td>\n",
       "      <td>0.01867</td>\n",
       "      <td>0.05963</td>\n",
       "      <td>0.009208</td>\n",
       "      <td>14.91</td>\n",
       "      <td>1</td>\n",
       "    </tr>\n",
       "    <tr>\n",
       "      <th>4</th>\n",
       "      <td>84358402</td>\n",
       "      <td>20.29</td>\n",
       "      <td>14.34</td>\n",
       "      <td>135.10</td>\n",
       "      <td>1297.0</td>\n",
       "      <td>0.10030</td>\n",
       "      <td>0.13280</td>\n",
       "      <td>0.1980</td>\n",
       "      <td>0.10430</td>\n",
       "      <td>0.1809</td>\n",
       "      <td>...</td>\n",
       "      <td>5.438</td>\n",
       "      <td>94.44</td>\n",
       "      <td>0.011490</td>\n",
       "      <td>0.02461</td>\n",
       "      <td>0.05688</td>\n",
       "      <td>0.01885</td>\n",
       "      <td>0.01756</td>\n",
       "      <td>0.005115</td>\n",
       "      <td>22.54</td>\n",
       "      <td>1</td>\n",
       "    </tr>\n",
       "  </tbody>\n",
       "</table>\n",
       "<p>5 rows × 23 columns</p>\n",
       "</div>"
      ],
      "text/plain": [
       "         id  radius_mean  texture_mean  perimeter_mean  area_mean  \\\n",
       "0    842302        17.99         10.38          122.80     1001.0   \n",
       "1    842517        20.57         17.77          132.90     1326.0   \n",
       "2  84300903        19.69         21.25          130.00     1203.0   \n",
       "3  84348301        11.42         20.38           77.58      386.1   \n",
       "4  84358402        20.29         14.34          135.10     1297.0   \n",
       "\n",
       "   smoothness_mean  compactness_mean  concavity_mean  concave points_mean  \\\n",
       "0          0.11840           0.27760          0.3001              0.14710   \n",
       "1          0.08474           0.07864          0.0869              0.07017   \n",
       "2          0.10960           0.15990          0.1974              0.12790   \n",
       "3          0.14250           0.28390          0.2414              0.10520   \n",
       "4          0.10030           0.13280          0.1980              0.10430   \n",
       "\n",
       "   symmetry_mean  ...  perimeter_se  area_se  smoothness_se  compactness_se  \\\n",
       "0         0.2419  ...         8.589   153.40       0.006399         0.04904   \n",
       "1         0.1812  ...         3.398    74.08       0.005225         0.01308   \n",
       "2         0.2069  ...         4.585    94.03       0.006150         0.04006   \n",
       "3         0.2597  ...         3.445    27.23       0.009110         0.07458   \n",
       "4         0.1809  ...         5.438    94.44       0.011490         0.02461   \n",
       "\n",
       "   concavity_se  concave points_se  symmetry_se  fractal_dimension_se  \\\n",
       "0       0.05373            0.01587      0.03003              0.006193   \n",
       "1       0.01860            0.01340      0.01389              0.003532   \n",
       "2       0.03832            0.02058      0.02250              0.004571   \n",
       "3       0.05661            0.01867      0.05963              0.009208   \n",
       "4       0.05688            0.01885      0.01756              0.005115   \n",
       "\n",
       "   radius_worst  diagnosis  \n",
       "0         25.38          1  \n",
       "1         24.99          1  \n",
       "2         23.57          1  \n",
       "3         14.91          1  \n",
       "4         22.54          1  \n",
       "\n",
       "[5 rows x 23 columns]"
      ]
     },
     "execution_count": 3,
     "metadata": {},
     "output_type": "execute_result"
    }
   ],
   "source": [
    "data.head()"
   ]
  },
  {
   "cell_type": "code",
   "execution_count": 4,
   "metadata": {},
   "outputs": [
    {
     "data": {
      "text/plain": [
       "(569, 23)"
      ]
     },
     "execution_count": 4,
     "metadata": {},
     "output_type": "execute_result"
    }
   ],
   "source": [
    "data.shape"
   ]
  },
  {
   "cell_type": "markdown",
   "metadata": {},
   "source": [
    "#### Create and scale the train and test datasets"
   ]
  },
  {
   "cell_type": "code",
   "execution_count": 12,
   "metadata": {},
   "outputs": [],
   "source": [
    "from sklearn.model_selection import train_test_split\n",
    "X = data.drop(['diagnosis'], axis=1).values\n",
    "y = data['diagnosis'].values\n",
    "#Split X and y into train and test sets with proportion 75%/25%.\n",
    "X_train, X_test, y_train, y_test = train_test_split(X, y, \n",
    "                                                    test_size = 0.25,\n",
    "                                                    random_state=42)"
   ]
  },
  {
   "cell_type": "code",
   "execution_count": 13,
   "metadata": {},
   "outputs": [],
   "source": [
    "# Scale the features with the formula below or with MinMaxScaler\n",
    "from sklearn.preprocessing import MinMaxScaler\n",
    "scaler = MinMaxScaler()\n",
    "scaler.fit(X_train) \n",
    "X_train = scaler.transform(X_train)\n",
    "X_test = scaler.transform(X_test)"
   ]
  },
  {
   "cell_type": "code",
   "execution_count": 32,
   "metadata": {},
   "outputs": [
    {
     "data": {
      "text/plain": [
       "array([[0.        , 0.2546158 , 0.11531958, 0.24164177, 0.14824509,\n",
       "        0.15274894, 0.06133142, 0.0529522 , 0.0582008 , 0.09076348,\n",
       "        0.12320977, 0.01510049, 0.02404526, 0.01686849, 0.01097875,\n",
       "        0.10259374, 0.0841019 , 0.04171717, 0.11185831, 0.15506365,\n",
       "        0.04098089, 0.18061545]])"
      ]
     },
     "execution_count": 32,
     "metadata": {},
     "output_type": "execute_result"
    }
   ],
   "source": [
    "# Confirm scaler\n",
    "X_train[:1]"
   ]
  },
  {
   "cell_type": "code",
   "execution_count": 15,
   "metadata": {},
   "outputs": [
    {
     "name": "stdout",
     "output_type": "stream",
     "text": [
      "X: (426, 22) (143, 22)\n",
      "Y: (426,) (143,)\n"
     ]
    }
   ],
   "source": [
    "print(\"X:\",X_train.shape, X_test.shape)\n",
    "print('Y:',y_train.shape, y_test.shape)"
   ]
  },
  {
   "cell_type": "markdown",
   "metadata": {},
   "source": [
    "#### Create, compile, and train the model"
   ]
  },
  {
   "cell_type": "code",
   "execution_count": 16,
   "metadata": {},
   "outputs": [],
   "source": [
    "import tensorflow as tf\n",
    "from tensorflow.keras.models import Sequential\n",
    "from tensorflow.keras.layers import Dense, Activation, Dropout\n",
    "from tensorflow.keras.callbacks import EarlyStopping,TensorBoard"
   ]
  },
  {
   "cell_type": "code",
   "execution_count": 17,
   "metadata": {},
   "outputs": [],
   "source": [
    "#CREATE\n",
    "model = Sequential()\n",
    "#Create an input layer with neurons equal to the nbr of features.\n",
    "model.add(Dense(units=22,activation='relu'))\n",
    "model.add(Dropout(0.5)) #Drop out half to avoid overfitting.\n",
    "#Create a hidden layer with neurons equal to the avg.\n",
    "model.add(Dense(units=11,activation='relu'))\n",
    "model.add(Dropout(0.5)) #Drop out half to avoid overfitting. \n",
    "#Create an output layer with sigmoid function for binary classification.\n",
    "model.add(Dense(units=1,activation='sigmoid'))"
   ]
  },
  {
   "cell_type": "code",
   "execution_count": 20,
   "metadata": {},
   "outputs": [],
   "source": [
    "#COMPILE\n",
    "#Use optimizer, loss, and metrics for binary classification.\n",
    "model.compile(optimizer = 'rmsprop', \n",
    "               loss = 'binary_crossentropy')"
   ]
  },
  {
   "cell_type": "code",
   "execution_count": 21,
   "metadata": {},
   "outputs": [],
   "source": [
    "#PREP CALLBACKS \n",
    "#Define Tensorboard prior to fitting the model.\n",
    "log_directory = 'logs/fit'\n",
    "board = TensorBoard(log_dir=log_directory,histogram_freq=1,\n",
    "    write_graph=True,\n",
    "    write_images=True,\n",
    "    update_freq='epoch',\n",
    "    profile_batch=2,\n",
    "    embeddings_freq=1)\n",
    "#Define early stopping prior to fitting the model.\n",
    "early_stop = EarlyStopping(monitor='val_loss', mode='min', verbose=1, patience=25)"
   ]
  },
  {
   "cell_type": "code",
   "execution_count": 22,
   "metadata": {},
   "outputs": [
    {
     "name": "stdout",
     "output_type": "stream",
     "text": [
      "Epoch 1/600\n",
      "14/14 [==============================] - 1s 17ms/step - loss: 0.7417 - val_loss: 0.6751\n",
      "Epoch 2/600\n",
      "14/14 [==============================] - 0s 3ms/step - loss: 0.6975 - val_loss: 0.6601\n",
      "Epoch 3/600\n",
      "14/14 [==============================] - 0s 5ms/step - loss: 0.6771 - val_loss: 0.6460\n",
      "Epoch 4/600\n",
      "14/14 [==============================] - 0s 4ms/step - loss: 0.6609 - val_loss: 0.6327\n",
      "Epoch 5/600\n",
      "14/14 [==============================] - 0s 4ms/step - loss: 0.6442 - val_loss: 0.6208\n",
      "Epoch 6/600\n",
      "14/14 [==============================] - 0s 5ms/step - loss: 0.6411 - val_loss: 0.6082\n",
      "Epoch 7/600\n",
      "14/14 [==============================] - 0s 5ms/step - loss: 0.6312 - val_loss: 0.5954\n",
      "Epoch 8/600\n",
      "14/14 [==============================] - 0s 11ms/step - loss: 0.6291 - val_loss: 0.5815\n",
      "Epoch 9/600\n",
      "14/14 [==============================] - 0s 4ms/step - loss: 0.5921 - val_loss: 0.5659\n",
      "Epoch 10/600\n",
      "14/14 [==============================] - 0s 4ms/step - loss: 0.5998 - val_loss: 0.5440\n",
      "Epoch 11/600\n",
      "14/14 [==============================] - 0s 4ms/step - loss: 0.5804 - val_loss: 0.5268\n",
      "Epoch 12/600\n",
      "14/14 [==============================] - 0s 4ms/step - loss: 0.5531 - val_loss: 0.5019\n",
      "Epoch 13/600\n",
      "14/14 [==============================] - 0s 4ms/step - loss: 0.5370 - val_loss: 0.4802\n",
      "Epoch 14/600\n",
      "14/14 [==============================] - 0s 4ms/step - loss: 0.5503 - val_loss: 0.4635\n",
      "Epoch 15/600\n",
      "14/14 [==============================] - 0s 6ms/step - loss: 0.5105 - val_loss: 0.4425\n",
      "Epoch 16/600\n",
      "14/14 [==============================] - 0s 4ms/step - loss: 0.5013 - val_loss: 0.4244\n",
      "Epoch 17/600\n",
      "14/14 [==============================] - 0s 4ms/step - loss: 0.4815 - val_loss: 0.4064\n",
      "Epoch 18/600\n",
      "14/14 [==============================] - 0s 4ms/step - loss: 0.5003 - val_loss: 0.3886\n",
      "Epoch 19/600\n",
      "14/14 [==============================] - 0s 4ms/step - loss: 0.4706 - val_loss: 0.3737\n",
      "Epoch 20/600\n",
      "14/14 [==============================] - 0s 4ms/step - loss: 0.4694 - val_loss: 0.3596\n",
      "Epoch 21/600\n",
      "14/14 [==============================] - 0s 4ms/step - loss: 0.4395 - val_loss: 0.3419\n",
      "Epoch 22/600\n",
      "14/14 [==============================] - 0s 4ms/step - loss: 0.4714 - val_loss: 0.3283\n",
      "Epoch 23/600\n",
      "14/14 [==============================] - 0s 4ms/step - loss: 0.4567 - val_loss: 0.3175\n",
      "Epoch 24/600\n",
      "14/14 [==============================] - 0s 5ms/step - loss: 0.4371 - val_loss: 0.3062\n",
      "Epoch 25/600\n",
      "14/14 [==============================] - 0s 4ms/step - loss: 0.4520 - val_loss: 0.2975\n",
      "Epoch 26/600\n",
      "14/14 [==============================] - 0s 4ms/step - loss: 0.3904 - val_loss: 0.2865\n",
      "Epoch 27/600\n",
      "14/14 [==============================] - 0s 4ms/step - loss: 0.3802 - val_loss: 0.2767\n",
      "Epoch 28/600\n",
      "14/14 [==============================] - 0s 4ms/step - loss: 0.4023 - val_loss: 0.2644\n",
      "Epoch 29/600\n",
      "14/14 [==============================] - 0s 4ms/step - loss: 0.3924 - val_loss: 0.2533\n",
      "Epoch 30/600\n",
      "14/14 [==============================] - 0s 4ms/step - loss: 0.3805 - val_loss: 0.2412\n",
      "Epoch 31/600\n",
      "14/14 [==============================] - 0s 4ms/step - loss: 0.3444 - val_loss: 0.2296\n",
      "Epoch 32/600\n",
      "14/14 [==============================] - 0s 4ms/step - loss: 0.3598 - val_loss: 0.2215\n",
      "Epoch 33/600\n",
      "14/14 [==============================] - 0s 4ms/step - loss: 0.3229 - val_loss: 0.2176\n",
      "Epoch 34/600\n",
      "14/14 [==============================] - 0s 4ms/step - loss: 0.3710 - val_loss: 0.2098\n",
      "Epoch 35/600\n",
      "14/14 [==============================] - 0s 4ms/step - loss: 0.3247 - val_loss: 0.2030\n",
      "Epoch 36/600\n",
      "14/14 [==============================] - 0s 4ms/step - loss: 0.3159 - val_loss: 0.2014\n",
      "Epoch 37/600\n",
      "14/14 [==============================] - 0s 4ms/step - loss: 0.3380 - val_loss: 0.1945\n",
      "Epoch 38/600\n",
      "14/14 [==============================] - 0s 4ms/step - loss: 0.3150 - val_loss: 0.1894\n",
      "Epoch 39/600\n",
      "14/14 [==============================] - 0s 4ms/step - loss: 0.2984 - val_loss: 0.1818\n",
      "Epoch 40/600\n",
      "14/14 [==============================] - 0s 4ms/step - loss: 0.3136 - val_loss: 0.1788\n",
      "Epoch 41/600\n",
      "14/14 [==============================] - 0s 4ms/step - loss: 0.3110 - val_loss: 0.1746\n",
      "Epoch 42/600\n",
      "14/14 [==============================] - 0s 4ms/step - loss: 0.3098 - val_loss: 0.1692\n",
      "Epoch 43/600\n",
      "14/14 [==============================] - 0s 4ms/step - loss: 0.3083 - val_loss: 0.1661\n",
      "Epoch 44/600\n",
      "14/14 [==============================] - 0s 4ms/step - loss: 0.3203 - val_loss: 0.1618\n",
      "Epoch 45/600\n",
      "14/14 [==============================] - 0s 4ms/step - loss: 0.2941 - val_loss: 0.1586\n",
      "Epoch 46/600\n",
      "14/14 [==============================] - 0s 4ms/step - loss: 0.2941 - val_loss: 0.1532\n",
      "Epoch 47/600\n",
      "14/14 [==============================] - 0s 4ms/step - loss: 0.3125 - val_loss: 0.1536\n",
      "Epoch 48/600\n",
      "14/14 [==============================] - 0s 4ms/step - loss: 0.2659 - val_loss: 0.1489\n",
      "Epoch 49/600\n",
      "14/14 [==============================] - 0s 4ms/step - loss: 0.3066 - val_loss: 0.1448\n",
      "Epoch 50/600\n",
      "14/14 [==============================] - 0s 4ms/step - loss: 0.3187 - val_loss: 0.1403\n",
      "Epoch 51/600\n",
      "14/14 [==============================] - 0s 3ms/step - loss: 0.2689 - val_loss: 0.1345\n",
      "Epoch 52/600\n",
      "14/14 [==============================] - 0s 3ms/step - loss: 0.2283 - val_loss: 0.1315\n",
      "Epoch 53/600\n",
      "14/14 [==============================] - 0s 4ms/step - loss: 0.2793 - val_loss: 0.1304\n",
      "Epoch 54/600\n",
      "14/14 [==============================] - 0s 4ms/step - loss: 0.2699 - val_loss: 0.1317\n",
      "Epoch 55/600\n",
      "14/14 [==============================] - 0s 4ms/step - loss: 0.2402 - val_loss: 0.1304\n",
      "Epoch 56/600\n",
      "14/14 [==============================] - 0s 3ms/step - loss: 0.2642 - val_loss: 0.1309\n",
      "Epoch 57/600\n",
      "14/14 [==============================] - 0s 3ms/step - loss: 0.2810 - val_loss: 0.1254\n",
      "Epoch 58/600\n",
      "14/14 [==============================] - 0s 4ms/step - loss: 0.2517 - val_loss: 0.1204\n",
      "Epoch 59/600\n",
      "14/14 [==============================] - 0s 4ms/step - loss: 0.3375 - val_loss: 0.1208\n",
      "Epoch 60/600\n",
      "14/14 [==============================] - 0s 4ms/step - loss: 0.2248 - val_loss: 0.1178\n",
      "Epoch 61/600\n",
      "14/14 [==============================] - 0s 4ms/step - loss: 0.2404 - val_loss: 0.1159\n",
      "Epoch 62/600\n",
      "14/14 [==============================] - 0s 4ms/step - loss: 0.2707 - val_loss: 0.1149\n",
      "Epoch 63/600\n",
      "14/14 [==============================] - 0s 4ms/step - loss: 0.2604 - val_loss: 0.1152\n",
      "Epoch 64/600\n",
      "14/14 [==============================] - 0s 11ms/step - loss: 0.2926 - val_loss: 0.1202\n",
      "Epoch 65/600\n",
      "14/14 [==============================] - 0s 4ms/step - loss: 0.2867 - val_loss: 0.1162\n",
      "Epoch 66/600\n",
      "14/14 [==============================] - 0s 4ms/step - loss: 0.2461 - val_loss: 0.1130\n",
      "Epoch 67/600\n",
      "14/14 [==============================] - 0s 4ms/step - loss: 0.2485 - val_loss: 0.1132\n",
      "Epoch 68/600\n",
      "14/14 [==============================] - 0s 4ms/step - loss: 0.2665 - val_loss: 0.1103\n",
      "Epoch 69/600\n",
      "14/14 [==============================] - 0s 4ms/step - loss: 0.2231 - val_loss: 0.1103\n",
      "Epoch 70/600\n",
      "14/14 [==============================] - 0s 4ms/step - loss: 0.2891 - val_loss: 0.1098\n",
      "Epoch 71/600\n",
      "14/14 [==============================] - 0s 4ms/step - loss: 0.1998 - val_loss: 0.1160\n",
      "Epoch 72/600\n",
      "14/14 [==============================] - 0s 4ms/step - loss: 0.2400 - val_loss: 0.1064\n",
      "Epoch 73/600\n",
      "14/14 [==============================] - 0s 4ms/step - loss: 0.2435 - val_loss: 0.1053\n",
      "Epoch 74/600\n",
      "14/14 [==============================] - 0s 4ms/step - loss: 0.2260 - val_loss: 0.1025\n",
      "Epoch 75/600\n",
      "14/14 [==============================] - 0s 4ms/step - loss: 0.2516 - val_loss: 0.1018\n",
      "Epoch 76/600\n",
      "14/14 [==============================] - 0s 4ms/step - loss: 0.2637 - val_loss: 0.1022\n",
      "Epoch 77/600\n",
      "14/14 [==============================] - 0s 4ms/step - loss: 0.2403 - val_loss: 0.1027\n",
      "Epoch 78/600\n",
      "14/14 [==============================] - 0s 4ms/step - loss: 0.2082 - val_loss: 0.1018\n",
      "Epoch 79/600\n",
      "14/14 [==============================] - 0s 4ms/step - loss: 0.2334 - val_loss: 0.1007\n",
      "Epoch 80/600\n",
      "14/14 [==============================] - 0s 4ms/step - loss: 0.2093 - val_loss: 0.0998\n",
      "Epoch 81/600\n",
      "14/14 [==============================] - 0s 4ms/step - loss: 0.2259 - val_loss: 0.0930\n",
      "Epoch 82/600\n",
      "14/14 [==============================] - 0s 4ms/step - loss: 0.2071 - val_loss: 0.0974\n"
     ]
    },
    {
     "name": "stdout",
     "output_type": "stream",
     "text": [
      "Epoch 83/600\n",
      "14/14 [==============================] - 0s 4ms/step - loss: 0.2593 - val_loss: 0.0967\n",
      "Epoch 84/600\n",
      "14/14 [==============================] - 0s 4ms/step - loss: 0.2372 - val_loss: 0.0958\n",
      "Epoch 85/600\n",
      "14/14 [==============================] - 0s 4ms/step - loss: 0.2248 - val_loss: 0.0931\n",
      "Epoch 86/600\n",
      "14/14 [==============================] - 0s 4ms/step - loss: 0.2319 - val_loss: 0.0972\n",
      "Epoch 87/600\n",
      "14/14 [==============================] - 0s 4ms/step - loss: 0.2462 - val_loss: 0.0941\n",
      "Epoch 88/600\n",
      "14/14 [==============================] - 0s 4ms/step - loss: 0.2152 - val_loss: 0.0913\n",
      "Epoch 89/600\n",
      "14/14 [==============================] - 0s 4ms/step - loss: 0.2284 - val_loss: 0.0969\n",
      "Epoch 90/600\n",
      "14/14 [==============================] - 0s 4ms/step - loss: 0.2327 - val_loss: 0.0941\n",
      "Epoch 91/600\n",
      "14/14 [==============================] - 0s 4ms/step - loss: 0.2218 - val_loss: 0.0965\n",
      "Epoch 92/600\n",
      "14/14 [==============================] - 0s 3ms/step - loss: 0.2265 - val_loss: 0.0934\n",
      "Epoch 93/600\n",
      "14/14 [==============================] - 0s 3ms/step - loss: 0.2590 - val_loss: 0.0977\n",
      "Epoch 94/600\n",
      "14/14 [==============================] - 0s 3ms/step - loss: 0.2156 - val_loss: 0.0977\n",
      "Epoch 95/600\n",
      "14/14 [==============================] - 0s 4ms/step - loss: 0.2686 - val_loss: 0.0935\n",
      "Epoch 96/600\n",
      "14/14 [==============================] - 0s 4ms/step - loss: 0.1975 - val_loss: 0.0917\n",
      "Epoch 97/600\n",
      "14/14 [==============================] - 0s 4ms/step - loss: 0.2318 - val_loss: 0.0864\n",
      "Epoch 98/600\n",
      "14/14 [==============================] - 0s 4ms/step - loss: 0.1893 - val_loss: 0.0877\n",
      "Epoch 99/600\n",
      "14/14 [==============================] - 0s 4ms/step - loss: 0.2093 - val_loss: 0.0886\n",
      "Epoch 100/600\n",
      "14/14 [==============================] - 0s 4ms/step - loss: 0.2437 - val_loss: 0.0889\n",
      "Epoch 101/600\n",
      "14/14 [==============================] - 0s 4ms/step - loss: 0.2077 - val_loss: 0.0885\n",
      "Epoch 102/600\n",
      "14/14 [==============================] - 0s 4ms/step - loss: 0.1906 - val_loss: 0.0889\n",
      "Epoch 103/600\n",
      "14/14 [==============================] - 0s 4ms/step - loss: 0.2456 - val_loss: 0.0904\n",
      "Epoch 104/600\n",
      "14/14 [==============================] - 0s 4ms/step - loss: 0.1963 - val_loss: 0.0849\n",
      "Epoch 105/600\n",
      "14/14 [==============================] - 0s 4ms/step - loss: 0.1824 - val_loss: 0.0827\n",
      "Epoch 106/600\n",
      "14/14 [==============================] - 0s 4ms/step - loss: 0.1918 - val_loss: 0.0823\n",
      "Epoch 107/600\n",
      "14/14 [==============================] - 0s 4ms/step - loss: 0.2148 - val_loss: 0.0805\n",
      "Epoch 108/600\n",
      "14/14 [==============================] - 0s 4ms/step - loss: 0.2088 - val_loss: 0.0808\n",
      "Epoch 109/600\n",
      "14/14 [==============================] - 0s 4ms/step - loss: 0.1863 - val_loss: 0.0793\n",
      "Epoch 110/600\n",
      "14/14 [==============================] - 0s 3ms/step - loss: 0.1744 - val_loss: 0.0795\n",
      "Epoch 111/600\n",
      "14/14 [==============================] - 0s 3ms/step - loss: 0.2183 - val_loss: 0.0828\n",
      "Epoch 112/600\n",
      "14/14 [==============================] - 0s 3ms/step - loss: 0.1651 - val_loss: 0.0818\n",
      "Epoch 113/600\n",
      "14/14 [==============================] - 0s 3ms/step - loss: 0.1760 - val_loss: 0.0793\n",
      "Epoch 114/600\n",
      "14/14 [==============================] - 0s 3ms/step - loss: 0.1651 - val_loss: 0.0773\n",
      "Epoch 115/600\n",
      "14/14 [==============================] - 0s 4ms/step - loss: 0.1461 - val_loss: 0.0794\n",
      "Epoch 116/600\n",
      "14/14 [==============================] - 0s 3ms/step - loss: 0.1940 - val_loss: 0.0794\n",
      "Epoch 117/600\n",
      "14/14 [==============================] - 0s 4ms/step - loss: 0.1865 - val_loss: 0.0835\n",
      "Epoch 118/600\n",
      "14/14 [==============================] - 0s 4ms/step - loss: 0.1824 - val_loss: 0.0805\n",
      "Epoch 119/600\n",
      "14/14 [==============================] - 0s 4ms/step - loss: 0.1959 - val_loss: 0.0792\n",
      "Epoch 120/600\n",
      "14/14 [==============================] - 0s 10ms/step - loss: 0.1878 - val_loss: 0.0792\n",
      "Epoch 121/600\n",
      "14/14 [==============================] - 0s 4ms/step - loss: 0.1914 - val_loss: 0.0837\n",
      "Epoch 122/600\n",
      "14/14 [==============================] - 0s 3ms/step - loss: 0.1843 - val_loss: 0.0756\n",
      "Epoch 123/600\n",
      "14/14 [==============================] - 0s 3ms/step - loss: 0.1882 - val_loss: 0.0793\n",
      "Epoch 124/600\n",
      "14/14 [==============================] - 0s 3ms/step - loss: 0.1624 - val_loss: 0.0741\n",
      "Epoch 125/600\n",
      "14/14 [==============================] - 0s 3ms/step - loss: 0.1566 - val_loss: 0.0747\n",
      "Epoch 126/600\n",
      "14/14 [==============================] - 0s 3ms/step - loss: 0.2013 - val_loss: 0.0761\n",
      "Epoch 127/600\n",
      "14/14 [==============================] - 0s 3ms/step - loss: 0.1781 - val_loss: 0.0763\n",
      "Epoch 128/600\n",
      "14/14 [==============================] - 0s 3ms/step - loss: 0.1736 - val_loss: 0.0779\n",
      "Epoch 129/600\n",
      "14/14 [==============================] - 0s 4ms/step - loss: 0.1676 - val_loss: 0.0821\n",
      "Epoch 130/600\n",
      "14/14 [==============================] - 0s 4ms/step - loss: 0.1704 - val_loss: 0.0780\n",
      "Epoch 131/600\n",
      "14/14 [==============================] - 0s 4ms/step - loss: 0.1631 - val_loss: 0.0734\n",
      "Epoch 132/600\n",
      "14/14 [==============================] - 0s 4ms/step - loss: 0.1534 - val_loss: 0.0758\n",
      "Epoch 133/600\n",
      "14/14 [==============================] - 0s 4ms/step - loss: 0.1995 - val_loss: 0.0757\n",
      "Epoch 134/600\n",
      "14/14 [==============================] - 0s 4ms/step - loss: 0.1717 - val_loss: 0.0796\n",
      "Epoch 135/600\n",
      "14/14 [==============================] - 0s 4ms/step - loss: 0.1695 - val_loss: 0.0799\n",
      "Epoch 136/600\n",
      "14/14 [==============================] - 0s 4ms/step - loss: 0.2079 - val_loss: 0.0776\n",
      "Epoch 137/600\n",
      "14/14 [==============================] - 0s 4ms/step - loss: 0.1461 - val_loss: 0.0736\n",
      "Epoch 138/600\n",
      "14/14 [==============================] - 0s 4ms/step - loss: 0.1852 - val_loss: 0.0737\n",
      "Epoch 139/600\n",
      "14/14 [==============================] - 0s 4ms/step - loss: 0.1553 - val_loss: 0.0782\n",
      "Epoch 140/600\n",
      "14/14 [==============================] - 0s 4ms/step - loss: 0.2082 - val_loss: 0.0717\n",
      "Epoch 141/600\n",
      "14/14 [==============================] - 0s 4ms/step - loss: 0.1612 - val_loss: 0.0725\n",
      "Epoch 142/600\n",
      "14/14 [==============================] - 0s 4ms/step - loss: 0.1615 - val_loss: 0.0823\n",
      "Epoch 143/600\n",
      "14/14 [==============================] - 0s 4ms/step - loss: 0.2159 - val_loss: 0.0757\n",
      "Epoch 144/600\n",
      "14/14 [==============================] - 0s 4ms/step - loss: 0.1513 - val_loss: 0.0726\n",
      "Epoch 145/600\n",
      "14/14 [==============================] - 0s 4ms/step - loss: 0.1969 - val_loss: 0.0717\n",
      "Epoch 146/600\n",
      "14/14 [==============================] - 0s 4ms/step - loss: 0.1782 - val_loss: 0.0783\n",
      "Epoch 147/600\n",
      "14/14 [==============================] - 0s 4ms/step - loss: 0.1524 - val_loss: 0.0778\n",
      "Epoch 148/600\n",
      "14/14 [==============================] - 0s 4ms/step - loss: 0.1449 - val_loss: 0.0729\n",
      "Epoch 149/600\n",
      "14/14 [==============================] - 0s 4ms/step - loss: 0.1873 - val_loss: 0.0771\n",
      "Epoch 150/600\n",
      "14/14 [==============================] - 0s 4ms/step - loss: 0.1608 - val_loss: 0.0759\n",
      "Epoch 151/600\n",
      "14/14 [==============================] - 0s 4ms/step - loss: 0.1537 - val_loss: 0.0746\n",
      "Epoch 152/600\n",
      "14/14 [==============================] - 0s 4ms/step - loss: 0.1183 - val_loss: 0.0726\n",
      "Epoch 153/600\n",
      "14/14 [==============================] - 0s 4ms/step - loss: 0.1378 - val_loss: 0.0781\n",
      "Epoch 154/600\n",
      "14/14 [==============================] - 0s 4ms/step - loss: 0.1550 - val_loss: 0.0698\n",
      "Epoch 155/600\n",
      "14/14 [==============================] - 0s 4ms/step - loss: 0.1964 - val_loss: 0.0695\n",
      "Epoch 156/600\n",
      "14/14 [==============================] - 0s 4ms/step - loss: 0.1699 - val_loss: 0.0701\n",
      "Epoch 157/600\n",
      "14/14 [==============================] - 0s 4ms/step - loss: 0.1221 - val_loss: 0.0724\n",
      "Epoch 158/600\n",
      "14/14 [==============================] - 0s 4ms/step - loss: 0.1397 - val_loss: 0.0805\n",
      "Epoch 159/600\n",
      "14/14 [==============================] - 0s 4ms/step - loss: 0.1473 - val_loss: 0.0688\n",
      "Epoch 160/600\n",
      "14/14 [==============================] - 0s 4ms/step - loss: 0.1598 - val_loss: 0.0710\n",
      "Epoch 161/600\n",
      "14/14 [==============================] - 0s 4ms/step - loss: 0.1747 - val_loss: 0.0743\n",
      "Epoch 162/600\n",
      "14/14 [==============================] - 0s 5ms/step - loss: 0.1443 - val_loss: 0.0715\n",
      "Epoch 163/600\n",
      "14/14 [==============================] - 0s 4ms/step - loss: 0.1619 - val_loss: 0.0769\n",
      "Epoch 164/600\n"
     ]
    },
    {
     "name": "stdout",
     "output_type": "stream",
     "text": [
      "14/14 [==============================] - 0s 4ms/step - loss: 0.1673 - val_loss: 0.0777\n",
      "Epoch 165/600\n",
      "14/14 [==============================] - 0s 4ms/step - loss: 0.1853 - val_loss: 0.0734\n",
      "Epoch 166/600\n",
      "14/14 [==============================] - 0s 4ms/step - loss: 0.1474 - val_loss: 0.0733\n",
      "Epoch 167/600\n",
      "14/14 [==============================] - 0s 4ms/step - loss: 0.1270 - val_loss: 0.0704\n",
      "Epoch 168/600\n",
      "14/14 [==============================] - 0s 4ms/step - loss: 0.1641 - val_loss: 0.0669\n",
      "Epoch 169/600\n",
      "14/14 [==============================] - 0s 4ms/step - loss: 0.1533 - val_loss: 0.0705\n",
      "Epoch 170/600\n",
      "14/14 [==============================] - 0s 4ms/step - loss: 0.1660 - val_loss: 0.0717\n",
      "Epoch 171/600\n",
      "14/14 [==============================] - 0s 3ms/step - loss: 0.1579 - val_loss: 0.0744\n",
      "Epoch 172/600\n",
      "14/14 [==============================] - 0s 3ms/step - loss: 0.1681 - val_loss: 0.0724\n",
      "Epoch 173/600\n",
      "14/14 [==============================] - 0s 3ms/step - loss: 0.1654 - val_loss: 0.0761\n",
      "Epoch 174/600\n",
      "14/14 [==============================] - 0s 3ms/step - loss: 0.1708 - val_loss: 0.0757\n",
      "Epoch 175/600\n",
      "14/14 [==============================] - 0s 3ms/step - loss: 0.1442 - val_loss: 0.0784\n",
      "Epoch 176/600\n",
      "14/14 [==============================] - 0s 10ms/step - loss: 0.1170 - val_loss: 0.0686\n",
      "Epoch 177/600\n",
      "14/14 [==============================] - 0s 4ms/step - loss: 0.1204 - val_loss: 0.0702\n",
      "Epoch 178/600\n",
      "14/14 [==============================] - 0s 4ms/step - loss: 0.1332 - val_loss: 0.0691\n",
      "Epoch 179/600\n",
      "14/14 [==============================] - 0s 4ms/step - loss: 0.1520 - val_loss: 0.0649\n",
      "Epoch 180/600\n",
      "14/14 [==============================] - 0s 4ms/step - loss: 0.1342 - val_loss: 0.0712\n",
      "Epoch 181/600\n",
      "14/14 [==============================] - 0s 4ms/step - loss: 0.1125 - val_loss: 0.0708\n",
      "Epoch 182/600\n",
      "14/14 [==============================] - 0s 4ms/step - loss: 0.1265 - val_loss: 0.0664\n",
      "Epoch 183/600\n",
      "14/14 [==============================] - 0s 4ms/step - loss: 0.1372 - val_loss: 0.0726\n",
      "Epoch 184/600\n",
      "14/14 [==============================] - 0s 4ms/step - loss: 0.1230 - val_loss: 0.0678\n",
      "Epoch 185/600\n",
      "14/14 [==============================] - 0s 4ms/step - loss: 0.1439 - val_loss: 0.0648\n",
      "Epoch 186/600\n",
      "14/14 [==============================] - 0s 4ms/step - loss: 0.1748 - val_loss: 0.0721\n",
      "Epoch 187/600\n",
      "14/14 [==============================] - 0s 4ms/step - loss: 0.1636 - val_loss: 0.0699\n",
      "Epoch 188/600\n",
      "14/14 [==============================] - 0s 4ms/step - loss: 0.1362 - val_loss: 0.0703\n",
      "Epoch 189/600\n",
      "14/14 [==============================] - 0s 4ms/step - loss: 0.1737 - val_loss: 0.0754\n",
      "Epoch 190/600\n",
      "14/14 [==============================] - 0s 4ms/step - loss: 0.1440 - val_loss: 0.0714\n",
      "Epoch 191/600\n",
      "14/14 [==============================] - 0s 4ms/step - loss: 0.1456 - val_loss: 0.0669\n",
      "Epoch 192/600\n",
      "14/14 [==============================] - 0s 4ms/step - loss: 0.0854 - val_loss: 0.0789\n",
      "Epoch 193/600\n",
      "14/14 [==============================] - 0s 4ms/step - loss: 0.1479 - val_loss: 0.0788\n",
      "Epoch 194/600\n",
      "14/14 [==============================] - 0s 4ms/step - loss: 0.1713 - val_loss: 0.0726\n",
      "Epoch 195/600\n",
      "14/14 [==============================] - 0s 4ms/step - loss: 0.1719 - val_loss: 0.0699\n",
      "Epoch 196/600\n",
      "14/14 [==============================] - 0s 4ms/step - loss: 0.1132 - val_loss: 0.0658\n",
      "Epoch 197/600\n",
      "14/14 [==============================] - 0s 4ms/step - loss: 0.1715 - val_loss: 0.0704\n",
      "Epoch 198/600\n",
      "14/14 [==============================] - 0s 4ms/step - loss: 0.1385 - val_loss: 0.0721\n",
      "Epoch 199/600\n",
      "14/14 [==============================] - 0s 4ms/step - loss: 0.1650 - val_loss: 0.0687\n",
      "Epoch 200/600\n",
      "14/14 [==============================] - 0s 4ms/step - loss: 0.1660 - val_loss: 0.0726\n",
      "Epoch 201/600\n",
      "14/14 [==============================] - 0s 4ms/step - loss: 0.1161 - val_loss: 0.0660\n",
      "Epoch 202/600\n",
      "14/14 [==============================] - 0s 4ms/step - loss: 0.1727 - val_loss: 0.0713\n",
      "Epoch 203/600\n",
      "14/14 [==============================] - 0s 4ms/step - loss: 0.1413 - val_loss: 0.0705\n",
      "Epoch 204/600\n",
      "14/14 [==============================] - 0s 3ms/step - loss: 0.1620 - val_loss: 0.0720\n",
      "Epoch 205/600\n",
      "14/14 [==============================] - 0s 3ms/step - loss: 0.1076 - val_loss: 0.0730\n",
      "Epoch 206/600\n",
      "14/14 [==============================] - 0s 3ms/step - loss: 0.1375 - val_loss: 0.0705\n",
      "Epoch 207/600\n",
      "14/14 [==============================] - 0s 4ms/step - loss: 0.1615 - val_loss: 0.0682\n",
      "Epoch 208/600\n",
      "14/14 [==============================] - 0s 3ms/step - loss: 0.1531 - val_loss: 0.0749\n",
      "Epoch 209/600\n",
      "14/14 [==============================] - 0s 4ms/step - loss: 0.1512 - val_loss: 0.0739\n",
      "Epoch 210/600\n",
      "14/14 [==============================] - 0s 4ms/step - loss: 0.1731 - val_loss: 0.0774\n",
      "Epoch 00210: early stopping\n"
     ]
    },
    {
     "data": {
      "text/plain": [
       "<tensorflow.python.keras.callbacks.History at 0x7f8c0a8d2978>"
      ]
     },
     "execution_count": 22,
     "metadata": {},
     "output_type": "execute_result"
    }
   ],
   "source": [
    "#FIT\n",
    "model.fit(x=X_train, \n",
    "          y=y_train, \n",
    "          epochs=600,\n",
    "          validation_data=(X_test, y_test), verbose=1,\n",
    "          callbacks=[early_stop, board]\n",
    "          )"
   ]
  },
  {
   "cell_type": "markdown",
   "metadata": {},
   "source": [
    "#### Evaluate the model"
   ]
  },
  {
   "cell_type": "code",
   "execution_count": 34,
   "metadata": {},
   "outputs": [
    {
     "name": "stdout",
     "output_type": "stream",
     "text": [
      "logs\\fit\n"
     ]
    }
   ],
   "source": [
    "print(log_directory)"
   ]
  },
  {
   "cell_type": "code",
   "execution_count": 35,
   "metadata": {},
   "outputs": [
    {
     "data": {
      "text/plain": [
       "'/Users/markcody/Desktop/MSIS/435-Machine-Learning/Assignments/04-Deep-Learning'"
      ]
     },
     "execution_count": 35,
     "metadata": {},
     "output_type": "execute_result"
    }
   ],
   "source": [
    "pwd"
   ]
  },
  {
   "cell_type": "markdown",
   "metadata": {},
   "source": [
    "From the command prompt, cd to the pwd and enter the command: tensorboard --logdir logs\\fit. Then find tensorboard in your browser at http://localhost:6006/"
   ]
  },
  {
   "cell_type": "code",
   "execution_count": 23,
   "metadata": {},
   "outputs": [
    {
     "data": {
      "text/plain": [
       "<AxesSubplot:>"
      ]
     },
     "execution_count": 23,
     "metadata": {},
     "output_type": "execute_result"
    },
    {
     "data": {
      "image/png": "[encoded data removed]",
      "text/plain": [
       "<Figure size 432x288 with 1 Axes>"
      ]
     },
     "metadata": {
      "needs_background": "light"
     },
     "output_type": "display_data"
    }
   ],
   "source": [
    "#PLOT HISTORY\n",
    "# Add the loss to a dataframe and plot with pandas.\n",
    "model_loss = pd.DataFrame(model.history.history)\n",
    "model_loss.plot()"
   ]
  },
  {
   "cell_type": "code",
   "execution_count": 24,
   "metadata": {},
   "outputs": [
    {
     "name": "stderr",
     "output_type": "stream",
     "text": [
      "/Users/markcody/anaconda3/lib/python3.6/site-packages/tensorflow/python/keras/engine/sequential.py:450: UserWarning: `model.predict_classes()` is deprecated and will be removed after 2021-01-01. Please use instead:* `np.argmax(model.predict(x), axis=-1)`,   if your model does multi-class classification   (e.g. if it uses a `softmax` last-layer activation).* `(model.predict(x) > 0.5).astype(\"int32\")`,   if your model does binary classification   (e.g. if it uses a `sigmoid` last-layer activation).\n",
      "  warnings.warn('`model.predict_classes()` is deprecated and '\n"
     ]
    }
   ],
   "source": [
    "#EVALUATE\n",
    "from sklearn.metrics import classification_report,confusion_matrix\n",
    "predictions = model.predict_classes(X_test)"
   ]
  },
  {
   "cell_type": "code",
   "execution_count": 25,
   "metadata": {},
   "outputs": [
    {
     "name": "stdout",
     "output_type": "stream",
     "text": [
      "             precision    recall  f1-score   support\n",
      "\n",
      "          0       0.99      0.97      0.98        89\n",
      "          1       0.95      0.98      0.96        54\n",
      "\n",
      "avg / total       0.97      0.97      0.97       143\n",
      "\n"
     ]
    }
   ],
   "source": [
    "print(classification_report(y_test,predictions))"
   ]
  },
  {
   "cell_type": "code",
   "execution_count": 26,
   "metadata": {},
   "outputs": [
    {
     "name": "stdout",
     "output_type": "stream",
     "text": [
      "[[86  3]\n",
      " [ 1 53]]\n"
     ]
    }
   ],
   "source": [
    "print(confusion_matrix(y_test,predictions))"
   ]
  },
  {
   "cell_type": "code",
   "execution_count": 27,
   "metadata": {},
   "outputs": [],
   "source": [
    "import matplotlib.pyplot as plt\n",
    "%matplotlib inline"
   ]
  },
  {
   "cell_type": "code",
   "execution_count": 30,
   "metadata": {},
   "outputs": [
    {
     "data": {
      "image/png": "[encoded data removed]",
      "text/plain": [
       "<Figure size 432x288 with 1 Axes>"
      ]
     },
     "metadata": {
      "needs_background": "light"
     },
     "output_type": "display_data"
    }
   ],
   "source": [
    "# Display the Receiver Operating Characteristics (ROC) graph\n",
    "from sklearn.metrics import roc_auc_score\n",
    "from sklearn.metrics import roc_curve\n",
    "dnn_roc_auc = roc_auc_score(y_test, predictions)\n",
    "fpr, tpr, thresholds = roc_curve(y_test, \n",
    "                                 model.predict_proba(X_test))\n",
    "plt.figure()\n",
    "plt.plot(fpr, tpr, \n",
    "         label='Deep Neural Network (area = %0.2f)' % dnn_roc_auc)\n",
    "plt.plot([0, 1], [0, 1],'r--')\n",
    "plt.xlim([0.0, 1.0])\n",
    "plt.ylim([0.0, 1.05])\n",
    "plt.xlabel('False Positive Rate')\n",
    "plt.ylabel('True Positive Rate')\n",
    "plt.title('Receiver Operating Characteristics (ROC)')\n",
    "plt.legend(loc=\"lower right\")\n",
    "plt.savefig('dnn_ROC')\n",
    "plt.show()"
   ]
  },
  {
   "cell_type": "code",
   "execution_count": 31,
   "metadata": {},
   "outputs": [
    {
     "name": "stdout",
     "output_type": "stream",
     "text": [
      "AUC: 0.997\n"
     ]
    }
   ],
   "source": [
    "# Calculate the Area Under the Curve (AUC)\n",
    "from sklearn import metrics\n",
    "dnnauc = metrics.auc(fpr, tpr)\n",
    "print('AUC: %.3f' % dnnauc)"
   ]
  },
  {
   "cell_type": "code",
   "execution_count": null,
   "metadata": {},
   "outputs": [],
   "source": []
  }
 ],
 "metadata": {
  "kernelspec": {
   "display_name": "Python 3",
   "language": "python",
   "name": "python3"
  },
  "language_info": {
   "codemirror_mode": {
    "name": "ipython",
    "version": 3
   },
   "file_extension": ".py",
   "mimetype": "text/x-python",
   "name": "python",
   "nbconvert_exporter": "python",
   "pygments_lexer": "ipython3",
   "version": "3.6.10"
  }
 },
 "nbformat": 4,
 "nbformat_minor": 4
}
